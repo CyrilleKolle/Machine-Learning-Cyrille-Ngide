{
 "cells": [
  {
   "cell_type": "code",
   "execution_count": 259,
   "metadata": {},
   "outputs": [],
   "source": [
    "import seaborn as sns\n",
    "import matplotlib.pyplot as plt\n",
    "import numpy as np\n"
   ]
  },
  {
   "cell_type": "code",
   "execution_count": 260,
   "metadata": {},
   "outputs": [
    {
     "data": {
      "text/html": [
       "<div>\n",
       "<style scoped>\n",
       "    .dataframe tbody tr th:only-of-type {\n",
       "        vertical-align: middle;\n",
       "    }\n",
       "\n",
       "    .dataframe tbody tr th {\n",
       "        vertical-align: top;\n",
       "    }\n",
       "\n",
       "    .dataframe thead th {\n",
       "        text-align: right;\n",
       "    }\n",
       "</style>\n",
       "<table border=\"1\" class=\"dataframe\">\n",
       "  <thead>\n",
       "    <tr style=\"text-align: right;\">\n",
       "      <th></th>\n",
       "      <th>total_bill</th>\n",
       "      <th>tip</th>\n",
       "      <th>sex</th>\n",
       "      <th>smoker</th>\n",
       "      <th>day</th>\n",
       "      <th>time</th>\n",
       "      <th>size</th>\n",
       "    </tr>\n",
       "  </thead>\n",
       "  <tbody>\n",
       "    <tr>\n",
       "      <th>0</th>\n",
       "      <td>16.99</td>\n",
       "      <td>1.01</td>\n",
       "      <td>Female</td>\n",
       "      <td>No</td>\n",
       "      <td>Sun</td>\n",
       "      <td>Dinner</td>\n",
       "      <td>2</td>\n",
       "    </tr>\n",
       "    <tr>\n",
       "      <th>1</th>\n",
       "      <td>10.34</td>\n",
       "      <td>1.66</td>\n",
       "      <td>Male</td>\n",
       "      <td>No</td>\n",
       "      <td>Sun</td>\n",
       "      <td>Dinner</td>\n",
       "      <td>3</td>\n",
       "    </tr>\n",
       "    <tr>\n",
       "      <th>2</th>\n",
       "      <td>21.01</td>\n",
       "      <td>3.50</td>\n",
       "      <td>Male</td>\n",
       "      <td>No</td>\n",
       "      <td>Sun</td>\n",
       "      <td>Dinner</td>\n",
       "      <td>3</td>\n",
       "    </tr>\n",
       "    <tr>\n",
       "      <th>3</th>\n",
       "      <td>23.68</td>\n",
       "      <td>3.31</td>\n",
       "      <td>Male</td>\n",
       "      <td>No</td>\n",
       "      <td>Sun</td>\n",
       "      <td>Dinner</td>\n",
       "      <td>2</td>\n",
       "    </tr>\n",
       "    <tr>\n",
       "      <th>4</th>\n",
       "      <td>24.59</td>\n",
       "      <td>3.61</td>\n",
       "      <td>Female</td>\n",
       "      <td>No</td>\n",
       "      <td>Sun</td>\n",
       "      <td>Dinner</td>\n",
       "      <td>4</td>\n",
       "    </tr>\n",
       "  </tbody>\n",
       "</table>\n",
       "</div>"
      ],
      "text/plain": [
       "   total_bill   tip     sex smoker  day    time  size\n",
       "0       16.99  1.01  Female     No  Sun  Dinner     2\n",
       "1       10.34  1.66    Male     No  Sun  Dinner     3\n",
       "2       21.01  3.50    Male     No  Sun  Dinner     3\n",
       "3       23.68  3.31    Male     No  Sun  Dinner     2\n",
       "4       24.59  3.61  Female     No  Sun  Dinner     4"
      ]
     },
     "execution_count": 260,
     "metadata": {},
     "output_type": "execute_result"
    }
   ],
   "source": [
    "tips_df = sns.load_dataset('tips')\n",
    "tips_df.head()"
   ]
  },
  {
   "cell_type": "code",
   "execution_count": 261,
   "metadata": {},
   "outputs": [
    {
     "name": "stdout",
     "output_type": "stream",
     "text": [
      "<class 'pandas.core.frame.DataFrame'>\n",
      "RangeIndex: 244 entries, 0 to 243\n",
      "Data columns (total 7 columns):\n",
      " #   Column      Non-Null Count  Dtype   \n",
      "---  ------      --------------  -----   \n",
      " 0   total_bill  244 non-null    float64 \n",
      " 1   tip         244 non-null    float64 \n",
      " 2   sex         244 non-null    category\n",
      " 3   smoker      244 non-null    category\n",
      " 4   day         244 non-null    category\n",
      " 5   time        244 non-null    category\n",
      " 6   size        244 non-null    int64   \n",
      "dtypes: category(4), float64(2), int64(1)\n",
      "memory usage: 7.4 KB\n"
     ]
    }
   ],
   "source": [
    "tips_df.info()"
   ]
  },
  {
   "cell_type": "code",
   "execution_count": 262,
   "metadata": {},
   "outputs": [
    {
     "data": {
      "text/html": [
       "<div>\n",
       "<style scoped>\n",
       "    .dataframe tbody tr th:only-of-type {\n",
       "        vertical-align: middle;\n",
       "    }\n",
       "\n",
       "    .dataframe tbody tr th {\n",
       "        vertical-align: top;\n",
       "    }\n",
       "\n",
       "    .dataframe thead th {\n",
       "        text-align: right;\n",
       "    }\n",
       "</style>\n",
       "<table border=\"1\" class=\"dataframe\">\n",
       "  <thead>\n",
       "    <tr style=\"text-align: right;\">\n",
       "      <th></th>\n",
       "      <th>total_bill</th>\n",
       "      <th>tip</th>\n",
       "      <th>size</th>\n",
       "    </tr>\n",
       "  </thead>\n",
       "  <tbody>\n",
       "    <tr>\n",
       "      <th>count</th>\n",
       "      <td>244.000000</td>\n",
       "      <td>244.000000</td>\n",
       "      <td>244.000000</td>\n",
       "    </tr>\n",
       "    <tr>\n",
       "      <th>mean</th>\n",
       "      <td>19.785943</td>\n",
       "      <td>2.998279</td>\n",
       "      <td>2.569672</td>\n",
       "    </tr>\n",
       "    <tr>\n",
       "      <th>std</th>\n",
       "      <td>8.902412</td>\n",
       "      <td>1.383638</td>\n",
       "      <td>0.951100</td>\n",
       "    </tr>\n",
       "    <tr>\n",
       "      <th>min</th>\n",
       "      <td>3.070000</td>\n",
       "      <td>1.000000</td>\n",
       "      <td>1.000000</td>\n",
       "    </tr>\n",
       "    <tr>\n",
       "      <th>25%</th>\n",
       "      <td>13.347500</td>\n",
       "      <td>2.000000</td>\n",
       "      <td>2.000000</td>\n",
       "    </tr>\n",
       "    <tr>\n",
       "      <th>50%</th>\n",
       "      <td>17.795000</td>\n",
       "      <td>2.900000</td>\n",
       "      <td>2.000000</td>\n",
       "    </tr>\n",
       "    <tr>\n",
       "      <th>75%</th>\n",
       "      <td>24.127500</td>\n",
       "      <td>3.562500</td>\n",
       "      <td>3.000000</td>\n",
       "    </tr>\n",
       "    <tr>\n",
       "      <th>max</th>\n",
       "      <td>50.810000</td>\n",
       "      <td>10.000000</td>\n",
       "      <td>6.000000</td>\n",
       "    </tr>\n",
       "  </tbody>\n",
       "</table>\n",
       "</div>"
      ],
      "text/plain": [
       "       total_bill         tip        size\n",
       "count  244.000000  244.000000  244.000000\n",
       "mean    19.785943    2.998279    2.569672\n",
       "std      8.902412    1.383638    0.951100\n",
       "min      3.070000    1.000000    1.000000\n",
       "25%     13.347500    2.000000    2.000000\n",
       "50%     17.795000    2.900000    2.000000\n",
       "75%     24.127500    3.562500    3.000000\n",
       "max     50.810000   10.000000    6.000000"
      ]
     },
     "execution_count": 262,
     "metadata": {},
     "output_type": "execute_result"
    }
   ],
   "source": [
    "tips_df.describe()"
   ]
  },
  {
   "cell_type": "code",
   "execution_count": 263,
   "metadata": {},
   "outputs": [
    {
     "data": {
      "text/plain": [
       "Index(['total_bill', 'tip', 'sex', 'smoker', 'day', 'time', 'size'], dtype='object')"
      ]
     },
     "execution_count": 263,
     "metadata": {},
     "output_type": "execute_result"
    }
   ],
   "source": [
    "tips_df.columns"
   ]
  },
  {
   "cell_type": "code",
   "execution_count": 264,
   "metadata": {},
   "outputs": [
    {
     "data": {
      "text/html": [
       "<div>\n",
       "<style scoped>\n",
       "    .dataframe tbody tr th:only-of-type {\n",
       "        vertical-align: middle;\n",
       "    }\n",
       "\n",
       "    .dataframe tbody tr th {\n",
       "        vertical-align: top;\n",
       "    }\n",
       "\n",
       "    .dataframe thead th {\n",
       "        text-align: right;\n",
       "    }\n",
       "</style>\n",
       "<table border=\"1\" class=\"dataframe\">\n",
       "  <thead>\n",
       "    <tr style=\"text-align: right;\">\n",
       "      <th></th>\n",
       "      <th>total_bill</th>\n",
       "      <th>tip</th>\n",
       "      <th>sex</th>\n",
       "      <th>smoker</th>\n",
       "      <th>day</th>\n",
       "      <th>time</th>\n",
       "      <th>size</th>\n",
       "    </tr>\n",
       "  </thead>\n",
       "  <tbody>\n",
       "    <tr>\n",
       "      <th>0</th>\n",
       "      <td>16.99</td>\n",
       "      <td>1.01</td>\n",
       "      <td>Female</td>\n",
       "      <td>No</td>\n",
       "      <td>Sun</td>\n",
       "      <td>Dinner</td>\n",
       "      <td>2</td>\n",
       "    </tr>\n",
       "    <tr>\n",
       "      <th>1</th>\n",
       "      <td>10.34</td>\n",
       "      <td>1.66</td>\n",
       "      <td>Male</td>\n",
       "      <td>No</td>\n",
       "      <td>Sun</td>\n",
       "      <td>Dinner</td>\n",
       "      <td>3</td>\n",
       "    </tr>\n",
       "    <tr>\n",
       "      <th>2</th>\n",
       "      <td>21.01</td>\n",
       "      <td>3.50</td>\n",
       "      <td>Male</td>\n",
       "      <td>No</td>\n",
       "      <td>Sun</td>\n",
       "      <td>Dinner</td>\n",
       "      <td>3</td>\n",
       "    </tr>\n",
       "    <tr>\n",
       "      <th>3</th>\n",
       "      <td>23.68</td>\n",
       "      <td>3.31</td>\n",
       "      <td>Male</td>\n",
       "      <td>No</td>\n",
       "      <td>Sun</td>\n",
       "      <td>Dinner</td>\n",
       "      <td>2</td>\n",
       "    </tr>\n",
       "    <tr>\n",
       "      <th>4</th>\n",
       "      <td>24.59</td>\n",
       "      <td>3.61</td>\n",
       "      <td>Female</td>\n",
       "      <td>No</td>\n",
       "      <td>Sun</td>\n",
       "      <td>Dinner</td>\n",
       "      <td>4</td>\n",
       "    </tr>\n",
       "  </tbody>\n",
       "</table>\n",
       "</div>"
      ],
      "text/plain": [
       "   total_bill   tip     sex smoker  day    time  size\n",
       "0       16.99  1.01  Female     No  Sun  Dinner     2\n",
       "1       10.34  1.66    Male     No  Sun  Dinner     3\n",
       "2       21.01  3.50    Male     No  Sun  Dinner     3\n",
       "3       23.68  3.31    Male     No  Sun  Dinner     2\n",
       "4       24.59  3.61  Female     No  Sun  Dinner     4"
      ]
     },
     "execution_count": 264,
     "metadata": {},
     "output_type": "execute_result"
    }
   ],
   "source": [
    "tips_df.head()"
   ]
  },
  {
   "cell_type": "code",
   "execution_count": 265,
   "metadata": {},
   "outputs": [
    {
     "data": {
      "text/html": [
       "<div>\n",
       "<style scoped>\n",
       "    .dataframe tbody tr th:only-of-type {\n",
       "        vertical-align: middle;\n",
       "    }\n",
       "\n",
       "    .dataframe tbody tr th {\n",
       "        vertical-align: top;\n",
       "    }\n",
       "\n",
       "    .dataframe thead th {\n",
       "        text-align: right;\n",
       "    }\n",
       "</style>\n",
       "<table border=\"1\" class=\"dataframe\">\n",
       "  <thead>\n",
       "    <tr style=\"text-align: right;\">\n",
       "      <th></th>\n",
       "      <th>total_bill</th>\n",
       "      <th>tip</th>\n",
       "      <th>size</th>\n",
       "    </tr>\n",
       "  </thead>\n",
       "  <tbody>\n",
       "    <tr>\n",
       "      <th>0</th>\n",
       "      <td>16.99</td>\n",
       "      <td>1.01</td>\n",
       "      <td>2</td>\n",
       "    </tr>\n",
       "    <tr>\n",
       "      <th>1</th>\n",
       "      <td>10.34</td>\n",
       "      <td>1.66</td>\n",
       "      <td>3</td>\n",
       "    </tr>\n",
       "    <tr>\n",
       "      <th>2</th>\n",
       "      <td>21.01</td>\n",
       "      <td>3.50</td>\n",
       "      <td>3</td>\n",
       "    </tr>\n",
       "    <tr>\n",
       "      <th>3</th>\n",
       "      <td>23.68</td>\n",
       "      <td>3.31</td>\n",
       "      <td>2</td>\n",
       "    </tr>\n",
       "    <tr>\n",
       "      <th>4</th>\n",
       "      <td>24.59</td>\n",
       "      <td>3.61</td>\n",
       "      <td>4</td>\n",
       "    </tr>\n",
       "  </tbody>\n",
       "</table>\n",
       "</div>"
      ],
      "text/plain": [
       "   total_bill   tip  size\n",
       "0       16.99  1.01     2\n",
       "1       10.34  1.66     3\n",
       "2       21.01  3.50     3\n",
       "3       23.68  3.31     2\n",
       "4       24.59  3.61     4"
      ]
     },
     "execution_count": 265,
     "metadata": {},
     "output_type": "execute_result"
    }
   ],
   "source": [
    "tips = tips_df.drop(['sex', 'smoker', 'day', 'time'], axis=1)\n",
    "tips.head()"
   ]
  },
  {
   "cell_type": "code",
   "execution_count": 266,
   "metadata": {},
   "outputs": [
    {
     "data": {
      "text/html": [
       "<div>\n",
       "<style scoped>\n",
       "    .dataframe tbody tr th:only-of-type {\n",
       "        vertical-align: middle;\n",
       "    }\n",
       "\n",
       "    .dataframe tbody tr th {\n",
       "        vertical-align: top;\n",
       "    }\n",
       "\n",
       "    .dataframe thead th {\n",
       "        text-align: right;\n",
       "    }\n",
       "</style>\n",
       "<table border=\"1\" class=\"dataframe\">\n",
       "  <thead>\n",
       "    <tr style=\"text-align: right;\">\n",
       "      <th></th>\n",
       "      <th>total_bill</th>\n",
       "      <th>tip</th>\n",
       "      <th>size</th>\n",
       "    </tr>\n",
       "  </thead>\n",
       "  <tbody>\n",
       "    <tr>\n",
       "      <th>count</th>\n",
       "      <td>244.000000</td>\n",
       "      <td>244.000000</td>\n",
       "      <td>244.000000</td>\n",
       "    </tr>\n",
       "    <tr>\n",
       "      <th>mean</th>\n",
       "      <td>19.785943</td>\n",
       "      <td>2.998279</td>\n",
       "      <td>2.569672</td>\n",
       "    </tr>\n",
       "    <tr>\n",
       "      <th>std</th>\n",
       "      <td>8.902412</td>\n",
       "      <td>1.383638</td>\n",
       "      <td>0.951100</td>\n",
       "    </tr>\n",
       "    <tr>\n",
       "      <th>min</th>\n",
       "      <td>3.070000</td>\n",
       "      <td>1.000000</td>\n",
       "      <td>1.000000</td>\n",
       "    </tr>\n",
       "    <tr>\n",
       "      <th>25%</th>\n",
       "      <td>13.347500</td>\n",
       "      <td>2.000000</td>\n",
       "      <td>2.000000</td>\n",
       "    </tr>\n",
       "    <tr>\n",
       "      <th>50%</th>\n",
       "      <td>17.795000</td>\n",
       "      <td>2.900000</td>\n",
       "      <td>2.000000</td>\n",
       "    </tr>\n",
       "    <tr>\n",
       "      <th>75%</th>\n",
       "      <td>24.127500</td>\n",
       "      <td>3.562500</td>\n",
       "      <td>3.000000</td>\n",
       "    </tr>\n",
       "    <tr>\n",
       "      <th>max</th>\n",
       "      <td>50.810000</td>\n",
       "      <td>10.000000</td>\n",
       "      <td>6.000000</td>\n",
       "    </tr>\n",
       "  </tbody>\n",
       "</table>\n",
       "</div>"
      ],
      "text/plain": [
       "       total_bill         tip        size\n",
       "count  244.000000  244.000000  244.000000\n",
       "mean    19.785943    2.998279    2.569672\n",
       "std      8.902412    1.383638    0.951100\n",
       "min      3.070000    1.000000    1.000000\n",
       "25%     13.347500    2.000000    2.000000\n",
       "50%     17.795000    2.900000    2.000000\n",
       "75%     24.127500    3.562500    3.000000\n",
       "max     50.810000   10.000000    6.000000"
      ]
     },
     "execution_count": 266,
     "metadata": {},
     "output_type": "execute_result"
    }
   ],
   "source": [
    "tips.describe()"
   ]
  },
  {
   "cell_type": "code",
   "execution_count": 267,
   "metadata": {},
   "outputs": [
    {
     "data": {
      "text/plain": [
       "8"
      ]
     },
     "execution_count": 267,
     "metadata": {},
     "output_type": "execute_result"
    }
   ],
   "source": [
    "len(tips.describe())"
   ]
  },
  {
   "cell_type": "code",
   "execution_count": 268,
   "metadata": {},
   "outputs": [
    {
     "data": {
      "text/plain": [
       "Index(['count', 'mean', 'std', 'min', '25%', '50%', '75%', 'max'], dtype='object')"
      ]
     },
     "execution_count": 268,
     "metadata": {},
     "output_type": "execute_result"
    }
   ],
   "source": [
    "tips.describe().index"
   ]
  },
  {
   "cell_type": "code",
   "execution_count": 269,
   "metadata": {},
   "outputs": [
    {
     "name": "stdout",
     "output_type": "stream",
     "text": [
      "0 total_bill\n",
      "1 tip\n",
      "2 size\n"
     ]
    }
   ],
   "source": [
    "for index, item in enumerate(tips.describe().columns):\n",
    "    print(index, item)"
   ]
  },
  {
   "attachments": {},
   "cell_type": "markdown",
   "metadata": {},
   "source": [
    "## Plotting the describe stats"
   ]
  },
  {
   "cell_type": "code",
   "execution_count": 270,
   "metadata": {},
   "outputs": [
    {
     "data": {
      "image/png": "[encoded data removed]",
      "text/plain": [
       "<Figure size 1600x500 with 3 Axes>"
      ]
     },
     "metadata": {},
     "output_type": "display_data"
    }
   ],
   "source": [
    "fig, axes = plt.subplots(ncols=3, figsize=(16,5))\n",
    "n = tips.describe()\n",
    "length = len(n)\n",
    "\n",
    "# for i in range(length):\n",
    "#     ax.plot(x=n[i], y=tips.columns)\n",
    "for index, item in enumerate(n.columns):\n",
    "    sns.barplot(data=n, x=n.index, y=item, ax=axes[index], log=True)\n",
    "\n",
    "    "
   ]
  },
  {
   "attachments": {},
   "cell_type": "markdown",
   "metadata": {},
   "source": [
    "## More plots from the stats"
   ]
  },
  {
   "cell_type": "code",
   "execution_count": 271,
   "metadata": {},
   "outputs": [
    {
     "data": {
      "text/html": [
       "<div>\n",
       "<style scoped>\n",
       "    .dataframe tbody tr th:only-of-type {\n",
       "        vertical-align: middle;\n",
       "    }\n",
       "\n",
       "    .dataframe tbody tr th {\n",
       "        vertical-align: top;\n",
       "    }\n",
       "\n",
       "    .dataframe thead th {\n",
       "        text-align: right;\n",
       "    }\n",
       "</style>\n",
       "<table border=\"1\" class=\"dataframe\">\n",
       "  <thead>\n",
       "    <tr style=\"text-align: right;\">\n",
       "      <th></th>\n",
       "      <th>total_bill</th>\n",
       "      <th>tip</th>\n",
       "      <th>sex</th>\n",
       "      <th>smoker</th>\n",
       "      <th>day</th>\n",
       "      <th>time</th>\n",
       "      <th>size</th>\n",
       "    </tr>\n",
       "  </thead>\n",
       "  <tbody>\n",
       "    <tr>\n",
       "      <th>0</th>\n",
       "      <td>16.99</td>\n",
       "      <td>1.01</td>\n",
       "      <td>Female</td>\n",
       "      <td>No</td>\n",
       "      <td>Sun</td>\n",
       "      <td>Dinner</td>\n",
       "      <td>2</td>\n",
       "    </tr>\n",
       "    <tr>\n",
       "      <th>1</th>\n",
       "      <td>10.34</td>\n",
       "      <td>1.66</td>\n",
       "      <td>Male</td>\n",
       "      <td>No</td>\n",
       "      <td>Sun</td>\n",
       "      <td>Dinner</td>\n",
       "      <td>3</td>\n",
       "    </tr>\n",
       "    <tr>\n",
       "      <th>2</th>\n",
       "      <td>21.01</td>\n",
       "      <td>3.50</td>\n",
       "      <td>Male</td>\n",
       "      <td>No</td>\n",
       "      <td>Sun</td>\n",
       "      <td>Dinner</td>\n",
       "      <td>3</td>\n",
       "    </tr>\n",
       "    <tr>\n",
       "      <th>3</th>\n",
       "      <td>23.68</td>\n",
       "      <td>3.31</td>\n",
       "      <td>Male</td>\n",
       "      <td>No</td>\n",
       "      <td>Sun</td>\n",
       "      <td>Dinner</td>\n",
       "      <td>2</td>\n",
       "    </tr>\n",
       "    <tr>\n",
       "      <th>4</th>\n",
       "      <td>24.59</td>\n",
       "      <td>3.61</td>\n",
       "      <td>Female</td>\n",
       "      <td>No</td>\n",
       "      <td>Sun</td>\n",
       "      <td>Dinner</td>\n",
       "      <td>4</td>\n",
       "    </tr>\n",
       "  </tbody>\n",
       "</table>\n",
       "</div>"
      ],
      "text/plain": [
       "   total_bill   tip     sex smoker  day    time  size\n",
       "0       16.99  1.01  Female     No  Sun  Dinner     2\n",
       "1       10.34  1.66    Male     No  Sun  Dinner     3\n",
       "2       21.01  3.50    Male     No  Sun  Dinner     3\n",
       "3       23.68  3.31    Male     No  Sun  Dinner     2\n",
       "4       24.59  3.61  Female     No  Sun  Dinner     4"
      ]
     },
     "execution_count": 271,
     "metadata": {},
     "output_type": "execute_result"
    }
   ],
   "source": [
    "tips_df.head()"
   ]
  },
  {
   "cell_type": "code",
   "execution_count": 272,
   "metadata": {},
   "outputs": [
    {
     "data": {
      "text/html": [
       "<div>\n",
       "<style scoped>\n",
       "    .dataframe tbody tr th:only-of-type {\n",
       "        vertical-align: middle;\n",
       "    }\n",
       "\n",
       "    .dataframe tbody tr th {\n",
       "        vertical-align: top;\n",
       "    }\n",
       "\n",
       "    .dataframe thead th {\n",
       "        text-align: right;\n",
       "    }\n",
       "</style>\n",
       "<table border=\"1\" class=\"dataframe\">\n",
       "  <thead>\n",
       "    <tr style=\"text-align: right;\">\n",
       "      <th></th>\n",
       "      <th>tip</th>\n",
       "      <th>total_bill</th>\n",
       "    </tr>\n",
       "    <tr>\n",
       "      <th>sex</th>\n",
       "      <th></th>\n",
       "      <th></th>\n",
       "    </tr>\n",
       "  </thead>\n",
       "  <tbody>\n",
       "    <tr>\n",
       "      <th>Male</th>\n",
       "      <td>157</td>\n",
       "      <td>157</td>\n",
       "    </tr>\n",
       "    <tr>\n",
       "      <th>Female</th>\n",
       "      <td>87</td>\n",
       "      <td>87</td>\n",
       "    </tr>\n",
       "  </tbody>\n",
       "</table>\n",
       "</div>"
      ],
      "text/plain": [
       "        tip  total_bill\n",
       "sex                    \n",
       "Male    157         157\n",
       "Female   87          87"
      ]
     },
     "execution_count": 272,
     "metadata": {},
     "output_type": "execute_result"
    }
   ],
   "source": [
    "sex = tips_df.groupby(['sex']).agg({'tip':'count', 'total_bill':'count'})\n",
    "sex"
   ]
  },
  {
   "cell_type": "code",
   "execution_count": 273,
   "metadata": {},
   "outputs": [
    {
     "data": {
      "text/html": [
       "<div>\n",
       "<style scoped>\n",
       "    .dataframe tbody tr th:only-of-type {\n",
       "        vertical-align: middle;\n",
       "    }\n",
       "\n",
       "    .dataframe tbody tr th {\n",
       "        vertical-align: top;\n",
       "    }\n",
       "\n",
       "    .dataframe thead th {\n",
       "        text-align: right;\n",
       "    }\n",
       "</style>\n",
       "<table border=\"1\" class=\"dataframe\">\n",
       "  <thead>\n",
       "    <tr style=\"text-align: right;\">\n",
       "      <th></th>\n",
       "      <th>sex</th>\n",
       "      <th>tip</th>\n",
       "      <th>total_bill</th>\n",
       "    </tr>\n",
       "    <tr>\n",
       "      <th>day</th>\n",
       "      <th></th>\n",
       "      <th></th>\n",
       "      <th></th>\n",
       "    </tr>\n",
       "  </thead>\n",
       "  <tbody>\n",
       "    <tr>\n",
       "      <th>Thur</th>\n",
       "      <td>62</td>\n",
       "      <td>171.83</td>\n",
       "      <td>1096.33</td>\n",
       "    </tr>\n",
       "    <tr>\n",
       "      <th>Fri</th>\n",
       "      <td>19</td>\n",
       "      <td>51.96</td>\n",
       "      <td>325.88</td>\n",
       "    </tr>\n",
       "    <tr>\n",
       "      <th>Sat</th>\n",
       "      <td>87</td>\n",
       "      <td>260.40</td>\n",
       "      <td>1778.40</td>\n",
       "    </tr>\n",
       "    <tr>\n",
       "      <th>Sun</th>\n",
       "      <td>76</td>\n",
       "      <td>247.39</td>\n",
       "      <td>1627.16</td>\n",
       "    </tr>\n",
       "  </tbody>\n",
       "</table>\n",
       "</div>"
      ],
      "text/plain": [
       "      sex     tip  total_bill\n",
       "day                          \n",
       "Thur   62  171.83     1096.33\n",
       "Fri    19   51.96      325.88\n",
       "Sat    87  260.40     1778.40\n",
       "Sun    76  247.39     1627.16"
      ]
     },
     "execution_count": 273,
     "metadata": {},
     "output_type": "execute_result"
    }
   ],
   "source": [
    "day = tips_df.groupby(['day']).agg({'sex':'count', 'tip':'sum', 'total_bill':'sum'})\n",
    "day"
   ]
  },
  {
   "cell_type": "code",
   "execution_count": 274,
   "metadata": {},
   "outputs": [
    {
     "data": {
      "text/html": [
       "<div>\n",
       "<style scoped>\n",
       "    .dataframe tbody tr th:only-of-type {\n",
       "        vertical-align: middle;\n",
       "    }\n",
       "\n",
       "    .dataframe tbody tr th {\n",
       "        vertical-align: top;\n",
       "    }\n",
       "\n",
       "    .dataframe thead th {\n",
       "        text-align: right;\n",
       "    }\n",
       "</style>\n",
       "<table border=\"1\" class=\"dataframe\">\n",
       "  <thead>\n",
       "    <tr style=\"text-align: right;\">\n",
       "      <th></th>\n",
       "      <th>total_bill</th>\n",
       "      <th>tip</th>\n",
       "      <th>size</th>\n",
       "    </tr>\n",
       "  </thead>\n",
       "  <tbody>\n",
       "    <tr>\n",
       "      <th>0</th>\n",
       "      <td>16.99</td>\n",
       "      <td>1.01</td>\n",
       "      <td>2</td>\n",
       "    </tr>\n",
       "    <tr>\n",
       "      <th>1</th>\n",
       "      <td>10.34</td>\n",
       "      <td>1.66</td>\n",
       "      <td>3</td>\n",
       "    </tr>\n",
       "    <tr>\n",
       "      <th>2</th>\n",
       "      <td>21.01</td>\n",
       "      <td>3.50</td>\n",
       "      <td>3</td>\n",
       "    </tr>\n",
       "    <tr>\n",
       "      <th>3</th>\n",
       "      <td>23.68</td>\n",
       "      <td>3.31</td>\n",
       "      <td>2</td>\n",
       "    </tr>\n",
       "    <tr>\n",
       "      <th>4</th>\n",
       "      <td>24.59</td>\n",
       "      <td>3.61</td>\n",
       "      <td>4</td>\n",
       "    </tr>\n",
       "  </tbody>\n",
       "</table>\n",
       "</div>"
      ],
      "text/plain": [
       "   total_bill   tip  size\n",
       "0       16.99  1.01     2\n",
       "1       10.34  1.66     3\n",
       "2       21.01  3.50     3\n",
       "3       23.68  3.31     2\n",
       "4       24.59  3.61     4"
      ]
     },
     "execution_count": 274,
     "metadata": {},
     "output_type": "execute_result"
    }
   ],
   "source": [
    "tips.head()"
   ]
  },
  {
   "cell_type": "code",
   "execution_count": 275,
   "metadata": {},
   "outputs": [
    {
     "data": {
      "text/plain": [
       "((244, 2), (244,))"
      ]
     },
     "execution_count": 275,
     "metadata": {},
     "output_type": "execute_result"
    }
   ],
   "source": [
    "X,y = tips.drop(['tip'], axis=1), tips['tip']\n",
    "X.shape, y.shape"
   ]
  },
  {
   "attachments": {},
   "cell_type": "markdown",
   "metadata": {},
   "source": [
    "## 2. Train|Test split"
   ]
  },
  {
   "attachments": {},
   "cell_type": "markdown",
   "metadata": {},
   "source": [
    "## 2. Feature standardization (*)\n",
    "\n",
    "We need to normalize the data and in this case will be using feature standardization. Implement this yourself following this formula:\n",
    "\n",
    "$$X_{train}' = \\frac{X_{train}-\\mu_{train}}{\\sigma_{train}}$$\n",
    "\n",
    "$$X_{test}' = \\frac{X_{test}-\\mu_{train}}{\\sigma_{train}}$$\n",
    "\n",
    ", where $'$ denotes scaled, $\\mu_{train}$ is the mean of the training data, $\\sigma_{train}$ is the standard deviation of the training data. Note that it is very important that the mean and standard deviation is computed from the training data and not from testing data to avoid data leakage. Control the standard deviation and mean of $X_{train}'$ and $X_{test}'$. Is the results as you expect, why, why not?\n",
    "\n",
    "<details>\n",
    "\n",
    "<summary>Answer</summary>\n",
    "\n",
    "scaled_X_train (total_bill, size) mean: [ 6.79195262e-17 -1.98534000e-16]\n",
    "\n",
    "scaled_X_test (total_bill, size) mean: [-0.19137999 -0.04477934]\n",
    "\n",
    "scaled_X_train (total_bill, size) std: [1. 1.]\n",
    "\n",
    "scaled_X_test (total_bill, size) std: [0.92495673 1.06638889]\n",
    "\n",
    "</details>"
   ]
  },
  {
   "cell_type": "code",
   "execution_count": 276,
   "metadata": {},
   "outputs": [
    {
     "data": {
      "text/plain": [
       "((170, 2), (74, 2), (170,), (74,))"
      ]
     },
     "execution_count": 276,
     "metadata": {},
     "output_type": "execute_result"
    }
   ],
   "source": [
    "from sklearn.model_selection import train_test_split\n",
    "\n",
    "X_train, X_test, y_train, y_test = train_test_split(X, y, test_size=0.3, random_state=42)\n",
    "X_train.shape, X_test.shape, y_train.shape, y_test.shape"
   ]
  },
  {
   "cell_type": "code",
   "execution_count": 277,
   "metadata": {},
   "outputs": [
    {
     "data": {
      "text/html": [
       "<div>\n",
       "<style scoped>\n",
       "    .dataframe tbody tr th:only-of-type {\n",
       "        vertical-align: middle;\n",
       "    }\n",
       "\n",
       "    .dataframe tbody tr th {\n",
       "        vertical-align: top;\n",
       "    }\n",
       "\n",
       "    .dataframe thead th {\n",
       "        text-align: right;\n",
       "    }\n",
       "</style>\n",
       "<table border=\"1\" class=\"dataframe\">\n",
       "  <thead>\n",
       "    <tr style=\"text-align: right;\">\n",
       "      <th></th>\n",
       "      <th>total_bill</th>\n",
       "      <th>size</th>\n",
       "    </tr>\n",
       "  </thead>\n",
       "  <tbody>\n",
       "    <tr>\n",
       "      <th>234</th>\n",
       "      <td>15.53</td>\n",
       "      <td>2</td>\n",
       "    </tr>\n",
       "    <tr>\n",
       "      <th>227</th>\n",
       "      <td>20.45</td>\n",
       "      <td>4</td>\n",
       "    </tr>\n",
       "    <tr>\n",
       "      <th>180</th>\n",
       "      <td>34.65</td>\n",
       "      <td>4</td>\n",
       "    </tr>\n",
       "    <tr>\n",
       "      <th>5</th>\n",
       "      <td>25.29</td>\n",
       "      <td>4</td>\n",
       "    </tr>\n",
       "    <tr>\n",
       "      <th>56</th>\n",
       "      <td>38.01</td>\n",
       "      <td>4</td>\n",
       "    </tr>\n",
       "    <tr>\n",
       "      <th>...</th>\n",
       "      <td>...</td>\n",
       "      <td>...</td>\n",
       "    </tr>\n",
       "    <tr>\n",
       "      <th>106</th>\n",
       "      <td>20.49</td>\n",
       "      <td>2</td>\n",
       "    </tr>\n",
       "    <tr>\n",
       "      <th>14</th>\n",
       "      <td>14.83</td>\n",
       "      <td>2</td>\n",
       "    </tr>\n",
       "    <tr>\n",
       "      <th>92</th>\n",
       "      <td>5.75</td>\n",
       "      <td>2</td>\n",
       "    </tr>\n",
       "    <tr>\n",
       "      <th>179</th>\n",
       "      <td>34.63</td>\n",
       "      <td>2</td>\n",
       "    </tr>\n",
       "    <tr>\n",
       "      <th>102</th>\n",
       "      <td>44.30</td>\n",
       "      <td>3</td>\n",
       "    </tr>\n",
       "  </tbody>\n",
       "</table>\n",
       "<p>170 rows × 2 columns</p>\n",
       "</div>"
      ],
      "text/plain": [
       "     total_bill  size\n",
       "234       15.53     2\n",
       "227       20.45     4\n",
       "180       34.65     4\n",
       "5         25.29     4\n",
       "56        38.01     4\n",
       "..          ...   ...\n",
       "106       20.49     2\n",
       "14        14.83     2\n",
       "92         5.75     2\n",
       "179       34.63     2\n",
       "102       44.30     3\n",
       "\n",
       "[170 rows x 2 columns]"
      ]
     },
     "execution_count": 277,
     "metadata": {},
     "output_type": "execute_result"
    }
   ],
   "source": [
    "X_train"
   ]
  },
  {
   "cell_type": "code",
   "execution_count": 278,
   "metadata": {},
   "outputs": [
    {
     "name": "stdout",
     "output_type": "stream",
     "text": [
      "scaled_X_train[:,0].mean()=6.791952621236252e-17 \t \t scaled_X_train[:,1].mean()=-1.0449157878825003e-16 \n",
      "scaled_X_train[:,0].std()=1.0 \t \t scaled_X_train[:,1].std()=1.0\n",
      "scaled_X_test[:,0].mean()=-0.19194537101655185 \t \t scaled_X_test[:,1].mean()=-0.04491163109964233\n",
      "scaled_X_test[:,0].std()=0.9213997637553281 \t \t scaled_X_test[:,1].std()=1.0622880339691505\n"
     ]
    }
   ],
   "source": [
    "from sklearn.preprocessing import StandardScaler\n",
    "\n",
    "scaler = StandardScaler()\n",
    "\n",
    "scaler.fit(X_train)\n",
    "\n",
    "scaled_X_train = scaler.transform(X_train)\n",
    "scaled_X_test = scaler.transform(X_test)\n",
    "\n",
    "\n",
    "print(f\"{scaled_X_train[:,0].mean()=} \\t \\t {scaled_X_train[:,1].mean()=} \")\n",
    "print(f\"{scaled_X_train[:,0].std()=} \\t \\t {scaled_X_train[:,1].std()=}\")\n",
    "print(f\"{scaled_X_test[:,0].mean()=} \\t \\t {scaled_X_test[:,1].mean()=}\")\n",
    "print(f\"{scaled_X_test[:,0].std()=} \\t \\t {scaled_X_test[:,1].std()=}\")\n"
   ]
  },
  {
   "attachments": {},
   "cell_type": "markdown",
   "metadata": {},
   "source": [
    "- > The  $\\mu_{train}$ and $\\sigma_{train}$ differ from the test data because it is the $\\mu$ and $\\sigma$ of the train data that has been scaled and used to scaled the test data"
   ]
  },
  {
   "cell_type": "code",
   "execution_count": 279,
   "metadata": {},
   "outputs": [
    {
     "data": {
      "text/plain": [
       "array([[-5.28067630e-01, -6.25518269e-01],\n",
       "       [ 1.50987793e-02,  1.52272629e+00],\n",
       "       [ 1.58277419e+00,  1.52272629e+00],\n",
       "       [ 5.49433214e-01,  1.52272629e+00],\n",
       "       [ 1.95371710e+00,  1.52272629e+00],\n",
       "       [ 1.04733576e+00,  3.67097085e+00],\n",
       "       [-1.16286577e+00, -6.25518269e-01],\n",
       "       [ 5.95801078e-01,  4.48604011e-01],\n",
       "       [-2.57491011e-02,  4.48604011e-01],\n",
       "       [-1.00941022e+00, -6.25518269e-01],\n",
       "       [ 2.03320487e+00,  1.52272629e+00],\n",
       "       [-4.52995850e-01,  4.48604011e-01],\n",
       "       [-2.16740542e-01,  1.52272629e+00],\n",
       "       [-5.40211594e-01, -6.25518269e-01],\n",
       "       [ 4.13641612e-01,  4.48604011e-01],\n",
       "       [ 1.53098375e-01, -6.25518269e-01],\n",
       "       [-7.03603116e-01, -6.25518269e-01],\n",
       "       [ 9.62328005e-01,  4.48604011e-01],\n",
       "       [-1.30196936e+00, -6.25518269e-01],\n",
       "       [-4.40851885e-01, -6.25518269e-01],\n",
       "       [-3.09476270e-01, -6.25518269e-01],\n",
       "       [-1.10656194e+00, -6.25518269e-01],\n",
       "       [ 2.19218040e+00,  1.52272629e+00],\n",
       "       [-3.13892257e-01, -6.25518269e-01],\n",
       "       [-4.12147969e-01, -6.25518269e-01],\n",
       "       [-2.64212403e-01, -6.25518269e-01],\n",
       "       [-3.14996254e-01, -6.25518269e-01],\n",
       "       [-2.28884506e-01, -6.25518269e-01],\n",
       "       [-4.78387775e-01,  4.48604011e-01],\n",
       "       [ 2.70122032e-01, -6.25518269e-01],\n",
       "       [-4.28707921e-01, -6.25518269e-01],\n",
       "       [-7.66530931e-01, -6.25518269e-01],\n",
       "       [-1.13084986e+00, -6.25518269e-01],\n",
       "       [-7.77570899e-01, -6.25518269e-01],\n",
       "       [ 3.15385900e-01,  1.52272629e+00],\n",
       "       [-5.33587614e-01, -6.25518269e-01],\n",
       "       [-3.66884102e-01, -6.25518269e-01],\n",
       "       [ 7.69225982e-02,  4.48604011e-01],\n",
       "       [ 7.60296597e-01,  1.52272629e+00],\n",
       "       [ 2.11610204e-01, -6.25518269e-01],\n",
       "       [-9.89538278e-01, -6.25518269e-01],\n",
       "       [-6.80419184e-01, -6.25518269e-01],\n",
       "       [-9.32130446e-01, -6.25518269e-01],\n",
       "       [ 1.38957475e+00, -6.25518269e-01],\n",
       "       [ 9.55704024e-01, -6.25518269e-01],\n",
       "       [ 1.60264613e+00,  1.52272629e+00],\n",
       "       [ 3.36683296e+00,  4.48604011e-01],\n",
       "       [-8.44914702e-01, -6.25518269e-01],\n",
       "       [ 7.69225982e-02, -6.25518269e-01],\n",
       "       [-4.41955882e-01,  4.48604011e-01],\n",
       "       [ 7.43736645e-01,  3.67097085e+00],\n",
       "       [-7.17955074e-01, -6.25518269e-01],\n",
       "       [-5.01571707e-01, -6.25518269e-01],\n",
       "       [-8.70306627e-01, -6.25518269e-01],\n",
       "       [-7.64322938e-01, -6.25518269e-01],\n",
       "       [-1.10214595e+00, -6.25518269e-01],\n",
       "       [ 1.65011799e+00,  1.52272629e+00],\n",
       "       [ 1.71304581e+00,  4.48604011e-01],\n",
       "       [-8.41602711e-01, -6.25518269e-01],\n",
       "       [-6.89251158e-01, -6.25518269e-01],\n",
       "       [ 4.72153441e-01,  1.52272629e+00],\n",
       "       [-6.68275219e-01, -6.25518269e-01],\n",
       "       [-5.79955478e-01, -6.25518269e-01],\n",
       "       [ 1.54413430e+00,  3.67097085e+00],\n",
       "       [ 1.27365509e+00, -6.25518269e-01],\n",
       "       [-4.76179782e-01, -6.25518269e-01],\n",
       "       [-1.02597017e+00, -6.25518269e-01],\n",
       "       [-1.30307336e+00, -6.25518269e-01],\n",
       "       [-9.86226288e-01, -6.25518269e-01],\n",
       "       [-9.00114540e-01, -6.25518269e-01],\n",
       "       [ 2.23413228e+00, -6.25518269e-01],\n",
       "       [-9.15570495e-01, -6.25518269e-01],\n",
       "       [-4.24291934e-01,  4.48604011e-01],\n",
       "       [-3.00644296e-01,  4.48604011e-01],\n",
       "       [ 1.11357556e+00,  1.52272629e+00],\n",
       "       [ 1.08487165e+00,  1.52272629e+00],\n",
       "       [-4.71763795e-01,  4.48604011e-01],\n",
       "       [-4.81699766e-01, -6.25518269e-01],\n",
       "       [ 2.10938065e+00,  1.52272629e+00],\n",
       "       [ 2.76405073e+00,  4.48604011e-01],\n",
       "       [-1.18273771e+00, -6.25518269e-01],\n",
       "       [-4.03315995e-01, -6.25518269e-01],\n",
       "       [ 1.20962328e+00,  4.48604011e-01],\n",
       "       [ 2.39307534e-02,  1.52272629e+00],\n",
       "       [ 1.33437492e+00,  1.52272629e+00],\n",
       "       [ 2.69018036e-01, -6.25518269e-01],\n",
       "       [ 4.15947017e-02,  2.59684857e+00],\n",
       "       [-1.17390574e+00, -6.25518269e-01],\n",
       "       [-1.32073731e+00, -6.25518269e-01],\n",
       "       [-5.10403681e-01, -6.25518269e-01],\n",
       "       [ 3.71689735e-01, -6.25518269e-01],\n",
       "       [-5.46835575e-01, -6.25518269e-01],\n",
       "       [-1.14520182e+00, -6.25518269e-01],\n",
       "       [-8.89074572e-01, -6.25518269e-01],\n",
       "       [-7.61010947e-01, -6.25518269e-01],\n",
       "       [ 1.38184678e+00, -6.25518269e-01],\n",
       "       [-1.12864187e+00, -6.25518269e-01],\n",
       "       [-2.50964441e-01, -6.25518269e-01],\n",
       "       [-7.17955074e-01, -6.25518269e-01],\n",
       "       [-9.64048941e-02, -6.25518269e-01],\n",
       "       [-2.79668357e-01, -6.25518269e-01],\n",
       "       [-8.36082728e-01, -6.25518269e-01],\n",
       "       [ 7.24968700e-01,  1.52272629e+00],\n",
       "       [-4.97155720e-01, -6.25518269e-01],\n",
       "       [-6.96979135e-01, -6.25518269e-01],\n",
       "       [ 2.40314120e-01, -6.25518269e-01],\n",
       "       [ 1.36528682e+00, -6.25518269e-01],\n",
       "       [-9.63042356e-01, -6.25518269e-01],\n",
       "       [-1.29534538e+00, -1.69964055e+00],\n",
       "       [ 9.34825497e-02, -6.25518269e-01],\n",
       "       [-5.82163471e-01, -6.25518269e-01],\n",
       "       [-2.07908568e-01,  1.52272629e+00],\n",
       "       [ 3.08641778e+00,  1.52272629e+00],\n",
       "       [-8.33874734e-01, -6.25518269e-01],\n",
       "       [-4.77316249e-03, -6.25518269e-01],\n",
       "       [-4.44163876e-01,  4.48604011e-01],\n",
       "       [ 4.93226791e-02, -6.25518269e-01],\n",
       "       [ 7.22760707e-01, -6.25518269e-01],\n",
       "       [-9.60834362e-01, -6.25518269e-01],\n",
       "       [-2.26676513e-01, -6.25518269e-01],\n",
       "       [-7.51074977e-01, -6.25518269e-01],\n",
       "       [-7.61010947e-01, -6.25518269e-01],\n",
       "       [-2.23364522e-01,  1.52272629e+00],\n",
       "       [ 5.79241127e-01,  1.52272629e+00],\n",
       "       [ 5.40601240e-01, -6.25518269e-01],\n",
       "       [-8.58162663e-01, -6.25518269e-01],\n",
       "       [ 4.08121628e-01,  1.52272629e+00],\n",
       "       [-3.85652047e-01, -6.25518269e-01],\n",
       "       [ 3.09304176e+00,  1.52272629e+00],\n",
       "       [ 3.07657922e-01,  4.48604011e-01],\n",
       "       [ 7.58088603e-01, -6.25518269e-01],\n",
       "       [-8.18418779e-01, -6.25518269e-01],\n",
       "       [-1.06902605e+00, -6.25518269e-01],\n",
       "       [-1.00168224e+00, -6.25518269e-01],\n",
       "       [ 9.09336160e-01,  4.48604011e-01],\n",
       "       [ 4.85401402e-01, -6.25518269e-01],\n",
       "       [-2.56516896e-03, -6.25518269e-01],\n",
       "       [ 6.73080852e-01, -6.25518269e-01],\n",
       "       [-4.32019911e-01, -6.25518269e-01],\n",
       "       [ 1.31018440e-01,  1.52272629e+00],\n",
       "       [-8.51538682e-01, -6.25518269e-01],\n",
       "       [ 1.12019954e+00,  2.59684857e+00],\n",
       "       [-5.55570137e-02, -6.25518269e-01],\n",
       "       [ 2.76746013e-01,  4.48604011e-01],\n",
       "       [-3.73508082e-01,  4.48604011e-01],\n",
       "       [ 5.17417308e-01,  1.52272629e+00],\n",
       "       [ 1.99466239e-01, -6.25518269e-01],\n",
       "       [-1.10104195e+00,  4.48604011e-01],\n",
       "       [ 1.60043814e+00,  1.52272629e+00],\n",
       "       [-1.41347304e+00, -6.25518269e-01],\n",
       "       [-1.36148778e-01, -6.25518269e-01],\n",
       "       [-7.93026854e-01, -6.25518269e-01],\n",
       "       [ 2.32586142e-01, -6.25518269e-01],\n",
       "       [-8.66994637e-01, -6.25518269e-01],\n",
       "       [ 1.06168771e+00,  1.52272629e+00],\n",
       "       [-2.24468519e-01, -6.25518269e-01],\n",
       "       [-8.07378812e-01, -6.25518269e-01],\n",
       "       [-6.16387371e-01, -6.25518269e-01],\n",
       "       [ 8.67384283e-01,  4.48604011e-01],\n",
       "       [ 1.07603967e+00,  4.48604011e-01],\n",
       "       [-7.61010947e-01, -6.25518269e-01],\n",
       "       [-1.69268681e-01, -6.25518269e-01],\n",
       "       [-2.64212403e-01, -6.25518269e-01],\n",
       "       [-2.38820477e-01,  4.48604011e-01],\n",
       "       [-3.58052128e-01,  4.48604011e-01],\n",
       "       [ 1.95147664e-02, -6.25518269e-01],\n",
       "       [-6.05347403e-01, -6.25518269e-01],\n",
       "       [-1.60777647e+00, -6.25518269e-01],\n",
       "       [ 1.58056619e+00, -6.25518269e-01],\n",
       "       [ 2.64813107e+00,  4.48604011e-01]])"
      ]
     },
     "execution_count": 279,
     "metadata": {},
     "output_type": "execute_result"
    }
   ],
   "source": [
    "scaled_X_train"
   ]
  },
  {
   "attachments": {},
   "cell_type": "markdown",
   "metadata": {},
   "source": [
    "## 3. Polynomial features (*)\n",
    "\n",
    "We want to investigate ```Polynomialfeatures``` from scikit-klearn in this task. Start by instantiating an object of type ```PolynomialFeatures``` with degree 2. Now do the following: \n",
    "\n",
    "- use the method fit on $X_{train}'$\n",
    "- transform $X_{train}'$\n",
    "- transform $X_{test}'$\n",
    "\n",
    "Compare this transformed $X_{test}'$ with $X_{test}''$ where $X_{test}''$ comes from fitting the polynomial features to $X_{test}'$ and transforming $X_{test}'$. You can check directly by using ```==``` and then sum it up. If the value is same as the length, then you know that they are the same, as a boolean True evaluates to 1. "
   ]
  },
  {
   "cell_type": "code",
   "execution_count": 280,
   "metadata": {},
   "outputs": [
    {
     "data": {
      "text/plain": [
       "(170, 6)"
      ]
     },
     "execution_count": 280,
     "metadata": {},
     "output_type": "execute_result"
    }
   ],
   "source": [
    "from sklearn.preprocessing import PolynomialFeatures\n",
    "\n",
    "polynomial_instance = PolynomialFeatures(degree=2)\n",
    "\n",
    "polynomial_features_train = polynomial_instance.fit_transform(X_train)\n",
    "polynomial_features_test = polynomial_instance.fit_transform(X_train)\n",
    "polynomial_features_train.shape"
   ]
  },
  {
   "cell_type": "code",
   "execution_count": 281,
   "metadata": {},
   "outputs": [
    {
     "data": {
      "text/plain": [
       "(array([[1.0000000e+00, 1.5530000e+01, 2.0000000e+00, 2.4118090e+02,\n",
       "         3.1060000e+01, 4.0000000e+00],\n",
       "        [1.0000000e+00, 2.0450000e+01, 4.0000000e+00, 4.1820250e+02,\n",
       "         8.1800000e+01, 1.6000000e+01],\n",
       "        [1.0000000e+00, 3.4650000e+01, 4.0000000e+00, 1.2006225e+03,\n",
       "         1.3860000e+02, 1.6000000e+01],\n",
       "        [1.0000000e+00, 2.5290000e+01, 4.0000000e+00, 6.3958410e+02,\n",
       "         1.0116000e+02, 1.6000000e+01],\n",
       "        [1.0000000e+00, 3.8010000e+01, 4.0000000e+00, 1.4447601e+03,\n",
       "         1.5204000e+02, 1.6000000e+01]]),\n",
       "      total_bill  size\n",
       " 234       15.53     2\n",
       " 227       20.45     4\n",
       " 180       34.65     4\n",
       " 5         25.29     4\n",
       " 56        38.01     4)"
      ]
     },
     "execution_count": 281,
     "metadata": {},
     "output_type": "execute_result"
    }
   ],
   "source": [
    "polynomial_features_train[:5], X_train[:5]"
   ]
  },
  {
   "cell_type": "code",
   "execution_count": 282,
   "metadata": {},
   "outputs": [
    {
     "data": {
      "text/plain": [
       "(array([[1.0000000e+00, 1.5530000e+01, 2.0000000e+00, 2.4118090e+02,\n",
       "         3.1060000e+01, 4.0000000e+00],\n",
       "        [1.0000000e+00, 2.0450000e+01, 4.0000000e+00, 4.1820250e+02,\n",
       "         8.1800000e+01, 1.6000000e+01],\n",
       "        [1.0000000e+00, 3.4650000e+01, 4.0000000e+00, 1.2006225e+03,\n",
       "         1.3860000e+02, 1.6000000e+01]]),\n",
       "      total_bill  size\n",
       " 24        19.82     2\n",
       " 6          8.77     2\n",
       " 153       24.55     4)"
      ]
     },
     "execution_count": 282,
     "metadata": {},
     "output_type": "execute_result"
    }
   ],
   "source": [
    "polynomial_features_test[:3], X_test[:3]"
   ]
  },
  {
   "cell_type": "code",
   "execution_count": 283,
   "metadata": {},
   "outputs": [
    {
     "data": {
      "text/plain": [
       "(28900.0, 3453.25)"
      ]
     },
     "execution_count": 283,
     "metadata": {},
     "output_type": "execute_result"
    }
   ],
   "source": [
    "np.sum(polynomial_features_test[:,0])**2 ,np.sum(polynomial_features_test[:,1])"
   ]
  },
  {
   "attachments": {},
   "cell_type": "markdown",
   "metadata": {},
   "source": [
    "## 4. Polynomial regression  (*)\n",
    "\n",
    "We will now investigate the training loss and testing loss for different degrees of polynomial. Loop through degrees 1 to 4 (inclusive) and:\n",
    "- instantiate an object of PolynomialFeatures with that degree\n",
    "- fit and transform $X_{train}'$ and $X_{test}$ to create polynomial features\n",
    "- perform linear regression on these polynomial features (polynomial regression)\n",
    "- predict on both the training and testing data to record RMSE for training and testing for each iteration of the loop\n",
    "\n",
    "Now plot the results in the same figure. Do you notice anything special? \n",
    "\n",
    "<details>\n",
    "\n",
    "<summary>Answer</summary>\n",
    "\n",
    "<img src=\"../assets/E3_overfitting.png\" height=\"300\"/>\n",
    "\n",
    "</details>"
   ]
  },
  {
   "cell_type": "code",
   "execution_count": 293,
   "metadata": {},
   "outputs": [
    {
     "data": {
      "text/plain": [
       "[0.9180756712882111, 0.950745424561961, 1.049186667953214, 2.697633201159318]"
      ]
     },
     "execution_count": 293,
     "metadata": {},
     "output_type": "execute_result"
    }
   ],
   "source": [
    "from sklearn.metrics import mean_squared_error\n",
    "from sklearn.linear_model import LinearRegression\n",
    "rmse_list_test = []\n",
    "rmse_list_train = []\n",
    "\n",
    "for degree in range(1,5):\n",
    "    model_polynomial = PolynomialFeatures(degree=degree, include_bias=False)\n",
    "    train_features = model_polynomial.fit_transform(X_train)\n",
    "    test_features = model_polynomial.fit_transform(X_test)\n",
    "    model_linear_regression = LinearRegression()\n",
    "    \n",
    "    model_linear_regression.fit(train_features, y_train)\n",
    "    \n",
    "    y_pred_train = model_linear_regression.predict(train_features)\n",
    "    y_pred_test = model_linear_regression.predict(test_features)\n",
    "    rmse_list_test.append(np.sqrt(mean_squared_error(y_test, y_pred_test)))\n",
    "    rmse_list_train.append(np.sqrt(mean_squared_error(y_train, y_pred_train)))\n",
    "    \n",
    "rmse_list_test\n",
    "    "
   ]
  },
  {
   "cell_type": "code",
   "execution_count": 308,
   "metadata": {},
   "outputs": [
    {
     "data": {
      "text/plain": [
       "<matplotlib.legend.Legend at 0x263b105f160>"
      ]
     },
     "execution_count": 308,
     "metadata": {},
     "output_type": "execute_result"
    },
    {
     "data": {
      "image/png": "[encoded data removed]",
      "text/plain": [
       "<Figure size 640x480 with 1 Axes>"
      ]
     },
     "metadata": {},
     "output_type": "display_data"
    }
   ],
   "source": [
    "fig, axes =plt.figure(), plt.axes()\n",
    "axes.plot(range(1,5), rmse_list_test, label=\"test rmse\",marker='o', linestyle='dashed')\n",
    "axes.plot(range(1,5), rmse_list_train, label=\"train rmse\", marker='o', linestyle='dashed')\n",
    "plt.title(\"Comparison between training rmse and test rmse\")\n",
    "plt.xlabel('degree of polynomial')\n",
    "plt.ylabel('loss value')\n",
    "plt.legend()"
   ]
  },
  {
   "cell_type": "code",
   "execution_count": null,
   "metadata": {},
   "outputs": [],
   "source": []
  }
 ],
 "metadata": {
  "kernelspec": {
   "display_name": "Machine-Learning-Cyrille-Ngide-9RSAnzy-",
   "language": "python",
   "name": "python3"
  },
  "language_info": {
   "codemirror_mode": {
    "name": "ipython",
    "version": 3
   },
   "file_extension": ".py",
   "mimetype": "text/x-python",
   "name": "python",
   "nbconvert_exporter": "python",
   "pygments_lexer": "ipython3",
   "version": "3.9.13"
  },
  "orig_nbformat": 4,
  "vscode": {
   "interpreter": {
    "hash": "2804b5d909b8b54c628dc2765f3e72aed2443183031ac3a46a401a090bdb8434"
   }
  }
 },
 "nbformat": 4,
 "nbformat_minor": 2
}
